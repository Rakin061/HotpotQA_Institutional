{
  "cells": [
    {
      "cell_type": "markdown",
      "metadata": {
        "id": "view-in-github",
        "colab_type": "text"
      },
      "source": [
        "<a href=\"https://colab.research.google.com/github/Rakin061/HotpotQA_Institutional/blob/main/HotpotQA_.ipynb\" target=\"_parent\"><img src=\"https://colab.research.google.com/assets/colab-badge.svg\" alt=\"Open In Colab\"/></a>"
      ]
    },
    {
      "cell_type": "code",
      "execution_count": null,
      "metadata": {
        "id": "_ljweOtg_4_g"
      },
      "outputs": [],
      "source": [
        "!git clone https://github.com/hotpotqa/hotpot.git"
      ]
    },
    {
      "cell_type": "code",
      "execution_count": 2,
      "metadata": {
        "colab": {
          "base_uri": "https://localhost:8080/"
        },
        "id": "GRq8xyyjJVIa",
        "outputId": "fa38e569-f7c8-4cdc-ff97-768bf31ebcee"
      },
      "outputs": [
        {
          "output_type": "stream",
          "name": "stdout",
          "text": [
            "/content/hotpot\n"
          ]
        }
      ],
      "source": [
        "cd /content/hotpot/"
      ]
    },
    {
      "cell_type": "code",
      "execution_count": 3,
      "metadata": {
        "colab": {
          "base_uri": "https://localhost:8080/"
        },
        "id": "F8TlmfmCCQ3t",
        "outputId": "f2b8993b-3185-4045-dc86-bf3b02b1ee57"
      },
      "outputs": [
        {
          "output_type": "stream",
          "name": "stdout",
          "text": [
            "total 100\n",
            "-rw-r--r-- 1 root root 10245 Mar 28 05:28 sp_model.py\n",
            "-rw-r--r-- 1 root root 11201 Mar 28 05:28 util.py\n",
            "-rwxr-xr-x 1 root root   496 Mar 28 05:28 download.sh\n",
            "-rw-r--r-- 1 root root  4257 Mar 28 05:28 hotpot_evaluate_v1.py\n",
            "-rw-r--r-- 1 root root  3631 Mar 28 05:28 main.py\n",
            "-rw-r--r-- 1 root root 10225 Mar 28 05:28 model.py\n",
            "-rw-r--r-- 1 root root 13516 Mar 28 05:28 prepro.py\n",
            "-rw-r--r-- 1 root root  6839 Mar 28 05:28 README.md\n",
            "-rw-r--r-- 1 root root 12115 Mar 28 05:28 run.py\n",
            "-rw-r--r-- 1 root root 11338 Mar 28 05:28 LICENSE.txt\n"
          ]
        }
      ],
      "source": [
        "!ls -lt"
      ]
    },
    {
      "cell_type": "code",
      "execution_count": 4,
      "metadata": {
        "colab": {
          "base_uri": "https://localhost:8080/"
        },
        "id": "4mOjvfQcCXja",
        "outputId": "460e92be-df90-42fb-9894-a8c5ed4fbf12"
      },
      "outputs": [
        {
          "output_type": "stream",
          "name": "stdout",
          "text": [
            "--2023-03-28 05:29:07--  http://curtis.ml.cmu.edu/datasets/hotpot/hotpot_dev_distractor_v1.json\n",
            "Resolving curtis.ml.cmu.edu (curtis.ml.cmu.edu)... 128.2.204.193\n",
            "Connecting to curtis.ml.cmu.edu (curtis.ml.cmu.edu)|128.2.204.193|:80... connected.\n",
            "HTTP request sent, awaiting response... 200 OK\n",
            "Length: 46320117 (44M) [application/json]\n",
            "Saving to: ‘hotpot_dev_distractor_v1.json’\n",
            "\n",
            "hotpot_dev_distract 100%[===================>]  44.17M  50.9MB/s    in 0.9s    \n",
            "\n",
            "2023-03-28 05:29:08 (50.9 MB/s) - ‘hotpot_dev_distractor_v1.json’ saved [46320117/46320117]\n",
            "\n",
            "--2023-03-28 05:29:08--  http://curtis.ml.cmu.edu/datasets/hotpot/hotpot_dev_fullwiki_v1.json\n",
            "Resolving curtis.ml.cmu.edu (curtis.ml.cmu.edu)... 128.2.204.193\n",
            "Connecting to curtis.ml.cmu.edu (curtis.ml.cmu.edu)|128.2.204.193|:80... connected.\n",
            "HTTP request sent, awaiting response... 200 OK\n",
            "Length: 47454698 (45M) [application/json]\n",
            "Saving to: ‘hotpot_dev_fullwiki_v1.json’\n",
            "\n",
            "hotpot_dev_fullwiki 100%[===================>]  45.26M  51.3MB/s    in 0.9s    \n",
            "\n",
            "2023-03-28 05:29:09 (51.3 MB/s) - ‘hotpot_dev_fullwiki_v1.json’ saved [47454698/47454698]\n",
            "\n",
            "--2023-03-28 05:29:09--  http://curtis.ml.cmu.edu/datasets/hotpot/hotpot_train_v1.1.json\n",
            "Resolving curtis.ml.cmu.edu (curtis.ml.cmu.edu)... 128.2.204.193\n",
            "Connecting to curtis.ml.cmu.edu (curtis.ml.cmu.edu)|128.2.204.193|:80... connected.\n",
            "HTTP request sent, awaiting response... 200 OK\n",
            "Length: 566426227 (540M) [application/json]\n",
            "Saving to: ‘hotpot_train_v1.1.json’\n",
            "\n",
            "hotpot_train_v1.1.j 100%[===================>] 540.19M  67.4MB/s    in 8.1s    \n",
            "\n",
            "2023-03-28 05:29:17 (67.1 MB/s) - ‘hotpot_train_v1.1.json’ saved [566426227/566426227]\n",
            "\n",
            "--2023-03-28 05:29:17--  http://nlp.stanford.edu/data/glove.840B.300d.zip\n",
            "Resolving nlp.stanford.edu (nlp.stanford.edu)... 171.64.67.140\n",
            "Connecting to nlp.stanford.edu (nlp.stanford.edu)|171.64.67.140|:80... connected.\n",
            "HTTP request sent, awaiting response... 302 Found\n",
            "Location: https://nlp.stanford.edu/data/glove.840B.300d.zip [following]\n",
            "--2023-03-28 05:29:18--  https://nlp.stanford.edu/data/glove.840B.300d.zip\n",
            "Connecting to nlp.stanford.edu (nlp.stanford.edu)|171.64.67.140|:443... connected.\n",
            "HTTP request sent, awaiting response... 301 Moved Permanently\n",
            "Location: https://downloads.cs.stanford.edu/nlp/data/glove.840B.300d.zip [following]\n",
            "--2023-03-28 05:29:18--  https://downloads.cs.stanford.edu/nlp/data/glove.840B.300d.zip\n",
            "Resolving downloads.cs.stanford.edu (downloads.cs.stanford.edu)... 171.64.64.22\n",
            "Connecting to downloads.cs.stanford.edu (downloads.cs.stanford.edu)|171.64.64.22|:443... connected.\n",
            "HTTP request sent, awaiting response... 200 OK\n",
            "Length: 2176768927 (2.0G) [application/zip]\n",
            "Saving to: ‘.//glove.840B.300d.zip’\n",
            "\n",
            ".//glove.840B.300d. 100%[===================>]   2.03G  5.09MB/s    in 6m 51s  \n",
            "\n",
            "2023-03-28 05:36:09 (5.05 MB/s) - ‘.//glove.840B.300d.zip’ saved [2176768927/2176768927]\n",
            "\n",
            "Archive:  .//glove.840B.300d.zip\n",
            "  inflating: ./glove.840B.300d.txt   \n",
            "2023-03-28 05:37:12.744142: I tensorflow/core/platform/cpu_feature_guard.cc:193] This TensorFlow binary is optimized with oneAPI Deep Neural Network Library (oneDNN) to use the following CPU instructions in performance-critical operations:  AVX2 FMA\n",
            "To enable them in other operations, rebuild TensorFlow with the appropriate compiler flags.\n",
            "2023-03-28 05:37:15.628341: W tensorflow/compiler/xla/stream_executor/platform/default/dso_loader.cc:64] Could not load dynamic library 'libnvinfer.so.7'; dlerror: libnvinfer.so.7: cannot open shared object file: No such file or directory; LD_LIBRARY_PATH: /usr/lib64-nvidia\n",
            "2023-03-28 05:37:15.628513: W tensorflow/compiler/xla/stream_executor/platform/default/dso_loader.cc:64] Could not load dynamic library 'libnvinfer_plugin.so.7'; dlerror: libnvinfer_plugin.so.7: cannot open shared object file: No such file or directory; LD_LIBRARY_PATH: /usr/lib64-nvidia\n",
            "2023-03-28 05:37:15.628539: W tensorflow/compiler/tf2tensorrt/utils/py_utils.cc:38] TF-TRT Warning: Cannot dlopen some TensorRT libraries. If you would like to use Nvidia GPU with TensorRT, please make sure the missing libraries mentioned above are installed properly.\n",
            "\u001b[38;5;3m⚠ As of spaCy v3.0, shortcuts like 'en' are deprecated. Please use the\n",
            "full pipeline package name 'en_core_web_sm' instead.\u001b[0m\n",
            "Looking in indexes: https://pypi.org/simple, https://us-python.pkg.dev/colab-wheels/public/simple/\n",
            "Collecting en-core-web-sm==3.5.0\n",
            "  Downloading https://github.com/explosion/spacy-models/releases/download/en_core_web_sm-3.5.0/en_core_web_sm-3.5.0-py3-none-any.whl (12.8 MB)\n",
            "\u001b[2K     \u001b[90m━━━━━━━━━━━━━━━━━━━━━━━━━━━━━━━━━━━━━━━━\u001b[0m \u001b[32m12.8/12.8 MB\u001b[0m \u001b[31m83.7 MB/s\u001b[0m eta \u001b[36m0:00:00\u001b[0m\n",
            "\u001b[?25hRequirement already satisfied: spacy<3.6.0,>=3.5.0 in /usr/local/lib/python3.9/dist-packages (from en-core-web-sm==3.5.0) (3.5.1)\n",
            "Requirement already satisfied: spacy-loggers<2.0.0,>=1.0.0 in /usr/local/lib/python3.9/dist-packages (from spacy<3.6.0,>=3.5.0->en-core-web-sm==3.5.0) (1.0.4)\n",
            "Requirement already satisfied: srsly<3.0.0,>=2.4.3 in /usr/local/lib/python3.9/dist-packages (from spacy<3.6.0,>=3.5.0->en-core-web-sm==3.5.0) (2.4.6)\n",
            "Requirement already satisfied: setuptools in /usr/local/lib/python3.9/dist-packages (from spacy<3.6.0,>=3.5.0->en-core-web-sm==3.5.0) (67.6.0)\n",
            "Requirement already satisfied: pydantic!=1.8,!=1.8.1,<1.11.0,>=1.7.4 in /usr/local/lib/python3.9/dist-packages (from spacy<3.6.0,>=3.5.0->en-core-web-sm==3.5.0) (1.10.7)\n",
            "Requirement already satisfied: tqdm<5.0.0,>=4.38.0 in /usr/local/lib/python3.9/dist-packages (from spacy<3.6.0,>=3.5.0->en-core-web-sm==3.5.0) (4.65.0)\n",
            "Requirement already satisfied: preshed<3.1.0,>=3.0.2 in /usr/local/lib/python3.9/dist-packages (from spacy<3.6.0,>=3.5.0->en-core-web-sm==3.5.0) (3.0.8)\n",
            "Requirement already satisfied: packaging>=20.0 in /usr/local/lib/python3.9/dist-packages (from spacy<3.6.0,>=3.5.0->en-core-web-sm==3.5.0) (23.0)\n",
            "Requirement already satisfied: cymem<2.1.0,>=2.0.2 in /usr/local/lib/python3.9/dist-packages (from spacy<3.6.0,>=3.5.0->en-core-web-sm==3.5.0) (2.0.7)\n",
            "Requirement already satisfied: smart-open<7.0.0,>=5.2.1 in /usr/local/lib/python3.9/dist-packages (from spacy<3.6.0,>=3.5.0->en-core-web-sm==3.5.0) (6.3.0)\n",
            "Requirement already satisfied: thinc<8.2.0,>=8.1.8 in /usr/local/lib/python3.9/dist-packages (from spacy<3.6.0,>=3.5.0->en-core-web-sm==3.5.0) (8.1.9)\n",
            "Requirement already satisfied: jinja2 in /usr/local/lib/python3.9/dist-packages (from spacy<3.6.0,>=3.5.0->en-core-web-sm==3.5.0) (3.1.2)\n",
            "Requirement already satisfied: typer<0.8.0,>=0.3.0 in /usr/local/lib/python3.9/dist-packages (from spacy<3.6.0,>=3.5.0->en-core-web-sm==3.5.0) (0.7.0)\n",
            "Requirement already satisfied: wasabi<1.2.0,>=0.9.1 in /usr/local/lib/python3.9/dist-packages (from spacy<3.6.0,>=3.5.0->en-core-web-sm==3.5.0) (1.1.1)\n",
            "Requirement already satisfied: langcodes<4.0.0,>=3.2.0 in /usr/local/lib/python3.9/dist-packages (from spacy<3.6.0,>=3.5.0->en-core-web-sm==3.5.0) (3.3.0)\n",
            "Requirement already satisfied: pathy>=0.10.0 in /usr/local/lib/python3.9/dist-packages (from spacy<3.6.0,>=3.5.0->en-core-web-sm==3.5.0) (0.10.1)\n",
            "Requirement already satisfied: spacy-legacy<3.1.0,>=3.0.11 in /usr/local/lib/python3.9/dist-packages (from spacy<3.6.0,>=3.5.0->en-core-web-sm==3.5.0) (3.0.12)\n",
            "Requirement already satisfied: numpy>=1.15.0 in /usr/local/lib/python3.9/dist-packages (from spacy<3.6.0,>=3.5.0->en-core-web-sm==3.5.0) (1.22.4)\n",
            "Requirement already satisfied: murmurhash<1.1.0,>=0.28.0 in /usr/local/lib/python3.9/dist-packages (from spacy<3.6.0,>=3.5.0->en-core-web-sm==3.5.0) (1.0.9)\n",
            "Requirement already satisfied: catalogue<2.1.0,>=2.0.6 in /usr/local/lib/python3.9/dist-packages (from spacy<3.6.0,>=3.5.0->en-core-web-sm==3.5.0) (2.0.8)\n",
            "Requirement already satisfied: requests<3.0.0,>=2.13.0 in /usr/local/lib/python3.9/dist-packages (from spacy<3.6.0,>=3.5.0->en-core-web-sm==3.5.0) (2.27.1)\n",
            "Requirement already satisfied: typing-extensions>=4.2.0 in /usr/local/lib/python3.9/dist-packages (from pydantic!=1.8,!=1.8.1,<1.11.0,>=1.7.4->spacy<3.6.0,>=3.5.0->en-core-web-sm==3.5.0) (4.5.0)\n",
            "Requirement already satisfied: idna<4,>=2.5 in /usr/local/lib/python3.9/dist-packages (from requests<3.0.0,>=2.13.0->spacy<3.6.0,>=3.5.0->en-core-web-sm==3.5.0) (3.4)\n",
            "Requirement already satisfied: urllib3<1.27,>=1.21.1 in /usr/local/lib/python3.9/dist-packages (from requests<3.0.0,>=2.13.0->spacy<3.6.0,>=3.5.0->en-core-web-sm==3.5.0) (1.26.15)\n",
            "Requirement already satisfied: charset-normalizer~=2.0.0 in /usr/local/lib/python3.9/dist-packages (from requests<3.0.0,>=2.13.0->spacy<3.6.0,>=3.5.0->en-core-web-sm==3.5.0) (2.0.12)\n",
            "Requirement already satisfied: certifi>=2017.4.17 in /usr/local/lib/python3.9/dist-packages (from requests<3.0.0,>=2.13.0->spacy<3.6.0,>=3.5.0->en-core-web-sm==3.5.0) (2022.12.7)\n",
            "Requirement already satisfied: confection<1.0.0,>=0.0.1 in /usr/local/lib/python3.9/dist-packages (from thinc<8.2.0,>=8.1.8->spacy<3.6.0,>=3.5.0->en-core-web-sm==3.5.0) (0.0.4)\n",
            "Requirement already satisfied: blis<0.8.0,>=0.7.8 in /usr/local/lib/python3.9/dist-packages (from thinc<8.2.0,>=8.1.8->spacy<3.6.0,>=3.5.0->en-core-web-sm==3.5.0) (0.7.9)\n",
            "Requirement already satisfied: click<9.0.0,>=7.1.1 in /usr/local/lib/python3.9/dist-packages (from typer<0.8.0,>=0.3.0->spacy<3.6.0,>=3.5.0->en-core-web-sm==3.5.0) (8.1.3)\n",
            "Requirement already satisfied: MarkupSafe>=2.0 in /usr/local/lib/python3.9/dist-packages (from jinja2->spacy<3.6.0,>=3.5.0->en-core-web-sm==3.5.0) (2.1.2)\n",
            "\u001b[38;5;2m✔ Download and installation successful\u001b[0m\n",
            "You can now load the package via spacy.load('en_core_web_sm')\n"
          ]
        }
      ],
      "source": [
        "!./download.sh"
      ]
    },
    {
      "cell_type": "code",
      "execution_count": 5,
      "metadata": {
        "id": "V8-qUJhYxh5R"
      },
      "outputs": [],
      "source": [
        "import json "
      ]
    },
    {
      "cell_type": "code",
      "execution_count": 6,
      "metadata": {
        "id": "DIKwFAyWyMYU"
      },
      "outputs": [],
      "source": [
        "with open(\"hotpot_train_v1.1.json\",\"r\") as file_data:\n",
        "  data=json.load(file_data)"
      ]
    },
    {
      "cell_type": "code",
      "execution_count": null,
      "metadata": {
        "id": "G9_Ii38T8DAn"
      },
      "outputs": [],
      "source": [
        "#type(data[0])\n",
        "#data[0]"
      ]
    },
    {
      "cell_type": "code",
      "execution_count": 7,
      "metadata": {
        "id": "hQUjQ9obSk3l"
      },
      "outputs": [],
      "source": [
        "json_data = []\n",
        "for i in range(10):\n",
        "    json_data.append(data[i])\n",
        "\n",
        "json_object = json.dumps(json_data, indent=4)\n",
        "\n",
        "with open(\"sample_train.json\", \"w\") as outfile:\n",
        "    outfile.write(json_object)"
      ]
    },
    {
      "cell_type": "code",
      "execution_count": 8,
      "metadata": {
        "colab": {
          "base_uri": "https://localhost:8080/"
        },
        "id": "fXFtPJ3Zyjpj",
        "outputId": "87cc1a6a-3ec7-45d7-8ed9-19fc3add161f"
      },
      "outputs": [
        {
          "output_type": "execute_result",
          "data": {
            "text/plain": [
              "90447"
            ]
          },
          "metadata": {},
          "execution_count": 8
        }
      ],
      "source": [
        "len(data)"
      ]
    },
    {
      "cell_type": "code",
      "execution_count": 9,
      "metadata": {
        "colab": {
          "base_uri": "https://localhost:8080/"
        },
        "id": "WQV_jf2o6r1F",
        "outputId": "e8e6f688-a7fd-45d2-9710-ac83096c27d9"
      },
      "outputs": [
        {
          "output_type": "execute_result",
          "data": {
            "text/plain": [
              "dict"
            ]
          },
          "metadata": {},
          "execution_count": 9
        }
      ],
      "source": [
        "type(data[0])"
      ]
    },
    {
      "cell_type": "code",
      "execution_count": 10,
      "metadata": {
        "id": "x-oavvPpKLe6"
      },
      "outputs": [],
      "source": [
        "with open(\"hotpot_dev_distractor_v1.json\",\"r\") as file_data:\n",
        "  data=json.load(file_data)"
      ]
    },
    {
      "cell_type": "code",
      "execution_count": null,
      "metadata": {
        "id": "az3MLgPqKUm7"
      },
      "outputs": [],
      "source": [
        "#data[0]"
      ]
    },
    {
      "cell_type": "code",
      "execution_count": 11,
      "metadata": {
        "id": "R4_6V8x8KfdB"
      },
      "outputs": [],
      "source": [
        "json_data = []\n",
        "for i in range(10):\n",
        "    json_data.append(data[i])\n",
        "\n",
        "json_object = json.dumps(json_data, indent=4)\n",
        "\n",
        "with open(\"sample_dev_distractor.json\", \"w\") as outfile:\n",
        "    outfile.write(json_object)"
      ]
    },
    {
      "cell_type": "code",
      "execution_count": 12,
      "metadata": {
        "id": "Uwc8DzhuKrZG"
      },
      "outputs": [],
      "source": [
        "with open(\"hotpot_dev_fullwiki_v1.json\",\"r\") as file_data:\n",
        "  data=json.load(file_data)"
      ]
    },
    {
      "cell_type": "code",
      "execution_count": null,
      "metadata": {
        "id": "wf7gFVQUKxDd"
      },
      "outputs": [],
      "source": [
        "#data[0]"
      ]
    },
    {
      "cell_type": "code",
      "execution_count": 13,
      "metadata": {
        "id": "tGs0FWJvK1U0"
      },
      "outputs": [],
      "source": [
        "json_data = []\n",
        "for i in range(10):\n",
        "    json_data.append(data[i])\n",
        "\n",
        "json_object = json.dumps(json_data, indent=4)\n",
        "\n",
        "with open(\"sample_dev_fullwiki.json\", \"w\") as outfile:\n",
        "    outfile.write(json_object)"
      ]
    },
    {
      "cell_type": "code",
      "execution_count": 14,
      "metadata": {
        "colab": {
          "base_uri": "https://localhost:8080/"
        },
        "id": "NiGlKdt7TwHi",
        "outputId": "71141688-d254-4df0-9d9c-2940fa1f49ae"
      },
      "outputs": [
        {
          "output_type": "stream",
          "name": "stdout",
          "text": [
            "Looking in indexes: https://pypi.org/simple, https://us-python.pkg.dev/colab-wheels/public/simple/\n",
            "Collecting ujson\n",
            "  Downloading ujson-5.7.0-cp39-cp39-manylinux_2_17_x86_64.manylinux2014_x86_64.whl (52 kB)\n",
            "\u001b[2K     \u001b[90m━━━━━━━━━━━━━━━━━━━━━━━━━━━━━━━━━━━━━━━━\u001b[0m \u001b[32m52.8/52.8 KB\u001b[0m \u001b[31m2.5 MB/s\u001b[0m eta \u001b[36m0:00:00\u001b[0m\n",
            "\u001b[?25hInstalling collected packages: ujson\n",
            "Successfully installed ujson-5.7.0\n"
          ]
        }
      ],
      "source": [
        "!pip install ujson"
      ]
    },
    {
      "cell_type": "markdown",
      "source": [
        "# Preprocessing"
      ],
      "metadata": {
        "id": "hC4odYr2eexK"
      }
    },
    {
      "cell_type": "code",
      "execution_count": 15,
      "metadata": {
        "colab": {
          "base_uri": "https://localhost:8080/"
        },
        "id": "hwESUzEsTGPq",
        "outputId": "354fc2ae-ed1d-4de2-883b-7f88eef3e04a"
      },
      "outputs": [
        {
          "output_type": "stream",
          "name": "stdout",
          "text": [
            "2023-03-28 05:44:04.335103: I tensorflow/core/platform/cpu_feature_guard.cc:193] This TensorFlow binary is optimized with oneAPI Deep Neural Network Library (oneDNN) to use the following CPU instructions in performance-critical operations:  AVX2 FMA\n",
            "To enable them in other operations, rebuild TensorFlow with the appropriate compiler flags.\n",
            "2023-03-28 05:44:05.344283: W tensorflow/compiler/xla/stream_executor/platform/default/dso_loader.cc:64] Could not load dynamic library 'libnvinfer.so.7'; dlerror: libnvinfer.so.7: cannot open shared object file: No such file or directory; LD_LIBRARY_PATH: /usr/lib64-nvidia\n",
            "2023-03-28 05:44:05.344416: W tensorflow/compiler/xla/stream_executor/platform/default/dso_loader.cc:64] Could not load dynamic library 'libnvinfer_plugin.so.7'; dlerror: libnvinfer_plugin.so.7: cannot open shared object file: No such file or directory; LD_LIBRARY_PATH: /usr/lib64-nvidia\n",
            "2023-03-28 05:44:05.344438: W tensorflow/compiler/tf2tensorrt/utils/py_utils.cc:38] TF-TRT Warning: Cannot dlopen some TensorRT libraries. If you would like to use Nvidia GPU with TensorRT, please make sure the missing libraries mentioned above are installed properly.\n",
            "/usr/local/lib/python3.9/dist-packages/torch/nn/_reduction.py:42: UserWarning: size_average and reduce args will be deprecated, please use reduction='sum' instead.\n",
            "  warnings.warn(warning.format(ret))\n",
            "/usr/local/lib/python3.9/dist-packages/torch/nn/_reduction.py:42: UserWarning: size_average and reduce args will be deprecated, please use reduction='mean' instead.\n",
            "  warnings.warn(warning.format(ret))\n",
            "/usr/local/lib/python3.9/dist-packages/torch/nn/_reduction.py:42: UserWarning: size_average and reduce args will be deprecated, please use reduction='none' instead.\n",
            "  warnings.warn(warning.format(ret))\n",
            "[Parallel(n_jobs=12)]: Using backend LokyBackend with 12 concurrent workers.\n",
            "2023-03-28 05:44:21.401196: W tensorflow/compiler/xla/stream_executor/platform/default/dso_loader.cc:64] Could not load dynamic library 'libnvinfer.so.7'; dlerror: libnvinfer.so.7: cannot open shared object file: No such file or directory; LD_LIBRARY_PATH: /usr/lib64-nvidia\n",
            "2023-03-28 05:44:21.401377: W tensorflow/compiler/xla/stream_executor/platform/default/dso_loader.cc:64] Could not load dynamic library 'libnvinfer_plugin.so.7'; dlerror: libnvinfer_plugin.so.7: cannot open shared object file: No such file or directory; LD_LIBRARY_PATH: /usr/lib64-nvidia\n",
            "2023-03-28 05:44:21.401407: W tensorflow/compiler/tf2tensorrt/utils/py_utils.cc:38] TF-TRT Warning: Cannot dlopen some TensorRT libraries. If you would like to use Nvidia GPU with TensorRT, please make sure the missing libraries mentioned above are installed properly.\n",
            "2023-03-28 05:44:22.170968: W tensorflow/compiler/xla/stream_executor/platform/default/dso_loader.cc:64] Could not load dynamic library 'libnvinfer.so.7'; dlerror: libnvinfer.so.7: cannot open shared object file: No such file or directory; LD_LIBRARY_PATH: /usr/lib64-nvidia\n",
            "2023-03-28 05:44:22.171115: W tensorflow/compiler/xla/stream_executor/platform/default/dso_loader.cc:64] Could not load dynamic library 'libnvinfer_plugin.so.7'; dlerror: libnvinfer_plugin.so.7: cannot open shared object file: No such file or directory; LD_LIBRARY_PATH: /usr/lib64-nvidia\n",
            "2023-03-28 05:44:22.171142: W tensorflow/compiler/tf2tensorrt/utils/py_utils.cc:38] TF-TRT Warning: Cannot dlopen some TensorRT libraries. If you would like to use Nvidia GPU with TensorRT, please make sure the missing libraries mentioned above are installed properly.\n",
            "2023-03-28 05:44:22.528701: W tensorflow/compiler/xla/stream_executor/platform/default/dso_loader.cc:64] Could not load dynamic library 'libnvinfer.so.7'; dlerror: libnvinfer.so.7: cannot open shared object file: No such file or directory; LD_LIBRARY_PATH: /usr/lib64-nvidia\n",
            "2023-03-28 05:44:22.528854: W tensorflow/compiler/xla/stream_executor/platform/default/dso_loader.cc:64] Could not load dynamic library 'libnvinfer_plugin.so.7'; dlerror: libnvinfer_plugin.so.7: cannot open shared object file: No such file or directory; LD_LIBRARY_PATH: /usr/lib64-nvidia\n",
            "2023-03-28 05:44:22.528879: W tensorflow/compiler/tf2tensorrt/utils/py_utils.cc:38] TF-TRT Warning: Cannot dlopen some TensorRT libraries. If you would like to use Nvidia GPU with TensorRT, please make sure the missing libraries mentioned above are installed properly.\n",
            "2023-03-28 05:44:22.907643: W tensorflow/compiler/xla/stream_executor/platform/default/dso_loader.cc:64] Could not load dynamic library 'libnvinfer.so.7'; dlerror: libnvinfer.so.7: cannot open shared object file: No such file or directory; LD_LIBRARY_PATH: /usr/lib64-nvidia\n",
            "2023-03-28 05:44:22.908120: W tensorflow/compiler/xla/stream_executor/platform/default/dso_loader.cc:64] Could not load dynamic library 'libnvinfer_plugin.so.7'; dlerror: libnvinfer_plugin.so.7: cannot open shared object file: No such file or directory; LD_LIBRARY_PATH: /usr/lib64-nvidia\n",
            "2023-03-28 05:44:22.908162: W tensorflow/compiler/tf2tensorrt/utils/py_utils.cc:38] TF-TRT Warning: Cannot dlopen some TensorRT libraries. If you would like to use Nvidia GPU with TensorRT, please make sure the missing libraries mentioned above are installed properly.\n",
            "2023-03-28 05:44:23.958099: W tensorflow/compiler/xla/stream_executor/platform/default/dso_loader.cc:64] Could not load dynamic library 'libnvinfer.so.7'; dlerror: libnvinfer.so.7: cannot open shared object file: No such file or directory; LD_LIBRARY_PATH: /usr/lib64-nvidia\n",
            "2023-03-28 05:44:23.958216: W tensorflow/compiler/xla/stream_executor/platform/default/dso_loader.cc:64] Could not load dynamic library 'libnvinfer_plugin.so.7'; dlerror: libnvinfer_plugin.so.7: cannot open shared object file: No such file or directory; LD_LIBRARY_PATH: /usr/lib64-nvidia\n",
            "2023-03-28 05:44:23.958237: W tensorflow/compiler/tf2tensorrt/utils/py_utils.cc:38] TF-TRT Warning: Cannot dlopen some TensorRT libraries. If you would like to use Nvidia GPU with TensorRT, please make sure the missing libraries mentioned above are installed properly.\n",
            "[Parallel(n_jobs=12)]: Done   3 out of  10 | elapsed:   34.3s remaining:  1.3min\n",
            "[Parallel(n_jobs=12)]: Done   5 out of  10 | elapsed:   35.5s remaining:   35.5s\n",
            "2023-03-28 05:44:55.687181: W tensorflow/compiler/xla/stream_executor/platform/default/dso_loader.cc:64] Could not load dynamic library 'libnvinfer.so.7'; dlerror: libnvinfer.so.7: cannot open shared object file: No such file or directory; LD_LIBRARY_PATH: /usr/lib64-nvidia\n",
            "2023-03-28 05:44:55.690906: W tensorflow/compiler/xla/stream_executor/platform/default/dso_loader.cc:64] Could not load dynamic library 'libnvinfer_plugin.so.7'; dlerror: libnvinfer_plugin.so.7: cannot open shared object file: No such file or directory; LD_LIBRARY_PATH: /usr/lib64-nvidia\n",
            "2023-03-28 05:44:55.690942: W tensorflow/compiler/tf2tensorrt/utils/py_utils.cc:38] TF-TRT Warning: Cannot dlopen some TensorRT libraries. If you would like to use Nvidia GPU with TensorRT, please make sure the missing libraries mentioned above are installed properly.\n",
            "2023-03-28 05:44:55.692278: W tensorflow/compiler/xla/stream_executor/platform/default/dso_loader.cc:64] Could not load dynamic library 'libnvinfer.so.7'; dlerror: libnvinfer.so.7: cannot open shared object file: No such file or directory; LD_LIBRARY_PATH: /usr/lib64-nvidia\n",
            "2023-03-28 05:44:55.693770: W tensorflow/compiler/xla/stream_executor/platform/default/dso_loader.cc:64] Could not load dynamic library 'libnvinfer_plugin.so.7'; dlerror: libnvinfer_plugin.so.7: cannot open shared object file: No such file or directory; LD_LIBRARY_PATH: /usr/lib64-nvidia\n",
            "2023-03-28 05:44:55.693801: W tensorflow/compiler/tf2tensorrt/utils/py_utils.cc:38] TF-TRT Warning: Cannot dlopen some TensorRT libraries. If you would like to use Nvidia GPU with TensorRT, please make sure the missing libraries mentioned above are installed properly.\n",
            "2023-03-28 05:44:55.696427: W tensorflow/compiler/xla/stream_executor/platform/default/dso_loader.cc:64] Could not load dynamic library 'libnvinfer.so.7'; dlerror: libnvinfer.so.7: cannot open shared object file: No such file or directory; LD_LIBRARY_PATH: /usr/lib64-nvidia\n",
            "2023-03-28 05:44:55.697065: W tensorflow/compiler/xla/stream_executor/platform/default/dso_loader.cc:64] Could not load dynamic library 'libnvinfer_plugin.so.7'; dlerror: libnvinfer_plugin.so.7: cannot open shared object file: No such file or directory; LD_LIBRARY_PATH: /usr/lib64-nvidia\n",
            "2023-03-28 05:44:55.697093: W tensorflow/compiler/tf2tensorrt/utils/py_utils.cc:38] TF-TRT Warning: Cannot dlopen some TensorRT libraries. If you would like to use Nvidia GPU with TensorRT, please make sure the missing libraries mentioned above are installed properly.\n",
            "2023-03-28 05:44:55.799540: W tensorflow/compiler/xla/stream_executor/platform/default/dso_loader.cc:64] Could not load dynamic library 'libnvinfer.so.7'; dlerror: libnvinfer.so.7: cannot open shared object file: No such file or directory; LD_LIBRARY_PATH: /usr/lib64-nvidia\n",
            "2023-03-28 05:44:55.799699: W tensorflow/compiler/xla/stream_executor/platform/default/dso_loader.cc:64] Could not load dynamic library 'libnvinfer_plugin.so.7'; dlerror: libnvinfer_plugin.so.7: cannot open shared object file: No such file or directory; LD_LIBRARY_PATH: /usr/lib64-nvidia\n",
            "2023-03-28 05:44:55.799727: W tensorflow/compiler/tf2tensorrt/utils/py_utils.cc:38] TF-TRT Warning: Cannot dlopen some TensorRT libraries. If you would like to use Nvidia GPU with TensorRT, please make sure the missing libraries mentioned above are installed properly.\n",
            "2023-03-28 05:44:55.842445: W tensorflow/compiler/xla/stream_executor/platform/default/dso_loader.cc:64] Could not load dynamic library 'libnvinfer.so.7'; dlerror: libnvinfer.so.7: cannot open shared object file: No such file or directory; LD_LIBRARY_PATH: /usr/lib64-nvidia\n",
            "2023-03-28 05:44:55.842579: W tensorflow/compiler/xla/stream_executor/platform/default/dso_loader.cc:64] Could not load dynamic library 'libnvinfer_plugin.so.7'; dlerror: libnvinfer_plugin.so.7: cannot open shared object file: No such file or directory; LD_LIBRARY_PATH: /usr/lib64-nvidia\n",
            "2023-03-28 05:44:55.842620: W tensorflow/compiler/tf2tensorrt/utils/py_utils.cc:38] TF-TRT Warning: Cannot dlopen some TensorRT libraries. If you would like to use Nvidia GPU with TensorRT, please make sure the missing libraries mentioned above are installed properly.\n",
            "[Parallel(n_jobs=12)]: Done   7 out of  10 | elapsed:  1.1min remaining:   28.7s\n",
            "[Parallel(n_jobs=12)]: Done  10 out of  10 | elapsed:  1.1min finished\n",
            "10 questions in total\n",
            "Generating word embedding...\n",
            "100% 2196017/2200000 [02:26<00:00, 15012.16it/s]\n",
            "2550 / 2647 tokens have corresponding word embedding vector\n",
            "Generating char embedding...\n",
            "124 tokens have corresponding embedding vector\n",
            "Processing train examples...\n",
            "100% 10/10 [00:00<00:00, 55.62it/s]\n",
            "Build 10 / 10 instances of features in total\n",
            "Saving train eval...\n",
            "Saving word embedding...\n",
            "Saving char embedding...\n",
            "Saving word2idx...\n",
            "Saving char2idx...\n",
            "Saving idx2word...\n",
            "Saving idx2char...\n"
          ]
        }
      ],
      "source": [
        "!python main.py --mode prepro --data_file sample_train.json --para_limit 2250 --data_split train"
      ]
    },
    {
      "cell_type": "code",
      "execution_count": 16,
      "metadata": {
        "colab": {
          "base_uri": "https://localhost:8080/"
        },
        "id": "-MR2DSWqVvkH",
        "outputId": "0bc1649a-0e1f-4611-ded4-ace9d4723e8a"
      },
      "outputs": [
        {
          "output_type": "stream",
          "name": "stdout",
          "text": [
            "2023-03-28 05:51:52.120929: I tensorflow/core/platform/cpu_feature_guard.cc:193] This TensorFlow binary is optimized with oneAPI Deep Neural Network Library (oneDNN) to use the following CPU instructions in performance-critical operations:  AVX2 FMA\n",
            "To enable them in other operations, rebuild TensorFlow with the appropriate compiler flags.\n",
            "2023-03-28 05:51:55.030397: W tensorflow/compiler/xla/stream_executor/platform/default/dso_loader.cc:64] Could not load dynamic library 'libnvinfer.so.7'; dlerror: libnvinfer.so.7: cannot open shared object file: No such file or directory; LD_LIBRARY_PATH: /usr/lib64-nvidia\n",
            "2023-03-28 05:51:55.030606: W tensorflow/compiler/xla/stream_executor/platform/default/dso_loader.cc:64] Could not load dynamic library 'libnvinfer_plugin.so.7'; dlerror: libnvinfer_plugin.so.7: cannot open shared object file: No such file or directory; LD_LIBRARY_PATH: /usr/lib64-nvidia\n",
            "2023-03-28 05:51:55.030642: W tensorflow/compiler/tf2tensorrt/utils/py_utils.cc:38] TF-TRT Warning: Cannot dlopen some TensorRT libraries. If you would like to use Nvidia GPU with TensorRT, please make sure the missing libraries mentioned above are installed properly.\n",
            "/usr/local/lib/python3.9/dist-packages/torch/nn/_reduction.py:42: UserWarning: size_average and reduce args will be deprecated, please use reduction='sum' instead.\n",
            "  warnings.warn(warning.format(ret))\n",
            "/usr/local/lib/python3.9/dist-packages/torch/nn/_reduction.py:42: UserWarning: size_average and reduce args will be deprecated, please use reduction='mean' instead.\n",
            "  warnings.warn(warning.format(ret))\n",
            "/usr/local/lib/python3.9/dist-packages/torch/nn/_reduction.py:42: UserWarning: size_average and reduce args will be deprecated, please use reduction='none' instead.\n",
            "  warnings.warn(warning.format(ret))\n",
            "[Parallel(n_jobs=12)]: Using backend LokyBackend with 12 concurrent workers.\n",
            "2023-03-28 05:52:17.261685: W tensorflow/compiler/xla/stream_executor/platform/default/dso_loader.cc:64] Could not load dynamic library 'libnvinfer.so.7'; dlerror: libnvinfer.so.7: cannot open shared object file: No such file or directory; LD_LIBRARY_PATH: /usr/lib64-nvidia\n",
            "2023-03-28 05:52:17.265808: W tensorflow/compiler/xla/stream_executor/platform/default/dso_loader.cc:64] Could not load dynamic library 'libnvinfer_plugin.so.7'; dlerror: libnvinfer_plugin.so.7: cannot open shared object file: No such file or directory; LD_LIBRARY_PATH: /usr/lib64-nvidia\n",
            "2023-03-28 05:52:17.267791: W tensorflow/compiler/tf2tensorrt/utils/py_utils.cc:38] TF-TRT Warning: Cannot dlopen some TensorRT libraries. If you would like to use Nvidia GPU with TensorRT, please make sure the missing libraries mentioned above are installed properly.\n",
            "2023-03-28 05:52:17.572831: W tensorflow/compiler/xla/stream_executor/platform/default/dso_loader.cc:64] Could not load dynamic library 'libnvinfer.so.7'; dlerror: libnvinfer.so.7: cannot open shared object file: No such file or directory; LD_LIBRARY_PATH: /usr/lib64-nvidia\n",
            "2023-03-28 05:52:17.572991: W tensorflow/compiler/xla/stream_executor/platform/default/dso_loader.cc:64] Could not load dynamic library 'libnvinfer_plugin.so.7'; dlerror: libnvinfer_plugin.so.7: cannot open shared object file: No such file or directory; LD_LIBRARY_PATH: /usr/lib64-nvidia\n",
            "2023-03-28 05:52:17.573017: W tensorflow/compiler/tf2tensorrt/utils/py_utils.cc:38] TF-TRT Warning: Cannot dlopen some TensorRT libraries. If you would like to use Nvidia GPU with TensorRT, please make sure the missing libraries mentioned above are installed properly.\n",
            "2023-03-28 05:52:17.642103: W tensorflow/compiler/xla/stream_executor/platform/default/dso_loader.cc:64] Could not load dynamic library 'libnvinfer.so.7'; dlerror: libnvinfer.so.7: cannot open shared object file: No such file or directory; LD_LIBRARY_PATH: /usr/lib64-nvidia\n",
            "2023-03-28 05:52:17.642273: W tensorflow/compiler/xla/stream_executor/platform/default/dso_loader.cc:64] Could not load dynamic library 'libnvinfer_plugin.so.7'; dlerror: libnvinfer_plugin.so.7: cannot open shared object file: No such file or directory; LD_LIBRARY_PATH: /usr/lib64-nvidia\n",
            "2023-03-28 05:52:17.642304: W tensorflow/compiler/tf2tensorrt/utils/py_utils.cc:38] TF-TRT Warning: Cannot dlopen some TensorRT libraries. If you would like to use Nvidia GPU with TensorRT, please make sure the missing libraries mentioned above are installed properly.\n",
            "2023-03-28 05:52:17.766261: W tensorflow/compiler/xla/stream_executor/platform/default/dso_loader.cc:64] Could not load dynamic library 'libnvinfer.so.7'; dlerror: libnvinfer.so.7: cannot open shared object file: No such file or directory; LD_LIBRARY_PATH: /usr/lib64-nvidia\n",
            "2023-03-28 05:52:17.766419: W tensorflow/compiler/xla/stream_executor/platform/default/dso_loader.cc:64] Could not load dynamic library 'libnvinfer_plugin.so.7'; dlerror: libnvinfer_plugin.so.7: cannot open shared object file: No such file or directory; LD_LIBRARY_PATH: /usr/lib64-nvidia\n",
            "2023-03-28 05:52:17.766447: W tensorflow/compiler/tf2tensorrt/utils/py_utils.cc:38] TF-TRT Warning: Cannot dlopen some TensorRT libraries. If you would like to use Nvidia GPU with TensorRT, please make sure the missing libraries mentioned above are installed properly.\n",
            "2023-03-28 05:52:18.053986: W tensorflow/compiler/xla/stream_executor/platform/default/dso_loader.cc:64] Could not load dynamic library 'libnvinfer.so.7'; dlerror: libnvinfer.so.7: cannot open shared object file: No such file or directory; LD_LIBRARY_PATH: /usr/lib64-nvidia\n",
            "2023-03-28 05:52:18.054164: W tensorflow/compiler/xla/stream_executor/platform/default/dso_loader.cc:64] Could not load dynamic library 'libnvinfer_plugin.so.7'; dlerror: libnvinfer_plugin.so.7: cannot open shared object file: No such file or directory; LD_LIBRARY_PATH: /usr/lib64-nvidia\n",
            "2023-03-28 05:52:18.054195: W tensorflow/compiler/tf2tensorrt/utils/py_utils.cc:38] TF-TRT Warning: Cannot dlopen some TensorRT libraries. If you would like to use Nvidia GPU with TensorRT, please make sure the missing libraries mentioned above are installed properly.\n",
            "[Parallel(n_jobs=12)]: Done   3 out of  10 | elapsed:   34.8s remaining:  1.4min\n",
            "[Parallel(n_jobs=12)]: Done   5 out of  10 | elapsed:   35.6s remaining:   35.6s\n",
            "2023-03-28 05:52:50.386811: W tensorflow/compiler/xla/stream_executor/platform/default/dso_loader.cc:64] Could not load dynamic library 'libnvinfer.so.7'; dlerror: libnvinfer.so.7: cannot open shared object file: No such file or directory; LD_LIBRARY_PATH: /usr/lib64-nvidia\n",
            "2023-03-28 05:52:50.386975: W tensorflow/compiler/xla/stream_executor/platform/default/dso_loader.cc:64] Could not load dynamic library 'libnvinfer_plugin.so.7'; dlerror: libnvinfer_plugin.so.7: cannot open shared object file: No such file or directory; LD_LIBRARY_PATH: /usr/lib64-nvidia\n",
            "2023-03-28 05:52:50.387003: W tensorflow/compiler/tf2tensorrt/utils/py_utils.cc:38] TF-TRT Warning: Cannot dlopen some TensorRT libraries. If you would like to use Nvidia GPU with TensorRT, please make sure the missing libraries mentioned above are installed properly.\n",
            "2023-03-28 05:52:50.831879: W tensorflow/compiler/xla/stream_executor/platform/default/dso_loader.cc:64] Could not load dynamic library 'libnvinfer.so.7'; dlerror: libnvinfer.so.7: cannot open shared object file: No such file or directory; LD_LIBRARY_PATH: /usr/lib64-nvidia\n",
            "2023-03-28 05:52:50.833849: W tensorflow/compiler/xla/stream_executor/platform/default/dso_loader.cc:64] Could not load dynamic library 'libnvinfer_plugin.so.7'; dlerror: libnvinfer_plugin.so.7: cannot open shared object file: No such file or directory; LD_LIBRARY_PATH: /usr/lib64-nvidia\n",
            "2023-03-28 05:52:50.833885: W tensorflow/compiler/tf2tensorrt/utils/py_utils.cc:38] TF-TRT Warning: Cannot dlopen some TensorRT libraries. If you would like to use Nvidia GPU with TensorRT, please make sure the missing libraries mentioned above are installed properly.\n",
            "2023-03-28 05:52:50.898256: W tensorflow/compiler/xla/stream_executor/platform/default/dso_loader.cc:64] Could not load dynamic library 'libnvinfer.so.7'; dlerror: libnvinfer.so.7: cannot open shared object file: No such file or directory; LD_LIBRARY_PATH: /usr/lib64-nvidia\n",
            "2023-03-28 05:52:50.898421: W tensorflow/compiler/xla/stream_executor/platform/default/dso_loader.cc:64] Could not load dynamic library 'libnvinfer_plugin.so.7'; dlerror: libnvinfer_plugin.so.7: cannot open shared object file: No such file or directory; LD_LIBRARY_PATH: /usr/lib64-nvidia\n",
            "2023-03-28 05:52:50.898446: W tensorflow/compiler/tf2tensorrt/utils/py_utils.cc:38] TF-TRT Warning: Cannot dlopen some TensorRT libraries. If you would like to use Nvidia GPU with TensorRT, please make sure the missing libraries mentioned above are installed properly.\n",
            "2023-03-28 05:52:51.010938: W tensorflow/compiler/xla/stream_executor/platform/default/dso_loader.cc:64] Could not load dynamic library 'libnvinfer.so.7'; dlerror: libnvinfer.so.7: cannot open shared object file: No such file or directory; LD_LIBRARY_PATH: /usr/lib64-nvidia\n",
            "2023-03-28 05:52:51.011101: W tensorflow/compiler/xla/stream_executor/platform/default/dso_loader.cc:64] Could not load dynamic library 'libnvinfer_plugin.so.7'; dlerror: libnvinfer_plugin.so.7: cannot open shared object file: No such file or directory; LD_LIBRARY_PATH: /usr/lib64-nvidia\n",
            "2023-03-28 05:52:51.011125: W tensorflow/compiler/tf2tensorrt/utils/py_utils.cc:38] TF-TRT Warning: Cannot dlopen some TensorRT libraries. If you would like to use Nvidia GPU with TensorRT, please make sure the missing libraries mentioned above are installed properly.\n",
            "2023-03-28 05:52:51.167702: W tensorflow/compiler/xla/stream_executor/platform/default/dso_loader.cc:64] Could not load dynamic library 'libnvinfer.so.7'; dlerror: libnvinfer.so.7: cannot open shared object file: No such file or directory; LD_LIBRARY_PATH: /usr/lib64-nvidia\n",
            "2023-03-28 05:52:51.167903: W tensorflow/compiler/xla/stream_executor/platform/default/dso_loader.cc:64] Could not load dynamic library 'libnvinfer_plugin.so.7'; dlerror: libnvinfer_plugin.so.7: cannot open shared object file: No such file or directory; LD_LIBRARY_PATH: /usr/lib64-nvidia\n",
            "2023-03-28 05:52:51.167932: W tensorflow/compiler/tf2tensorrt/utils/py_utils.cc:38] TF-TRT Warning: Cannot dlopen some TensorRT libraries. If you would like to use Nvidia GPU with TensorRT, please make sure the missing libraries mentioned above are installed properly.\n",
            "[Parallel(n_jobs=12)]: Done   7 out of  10 | elapsed:  1.2min remaining:   30.3s\n",
            "[Parallel(n_jobs=12)]: Done  10 out of  10 | elapsed:  1.2min finished\n",
            "10 questions in total\n",
            "Processing dev examples...\n",
            "100% 10/10 [00:00<00:00, 52.19it/s]\n",
            "Build 9 / 10 instances of features in total\n",
            "Saving dev eval...\n"
          ]
        }
      ],
      "source": [
        "!python main.py --mode prepro --data_file sample_dev_distractor.json --para_limit 2250 --data_split dev"
      ]
    },
    {
      "cell_type": "code",
      "execution_count": 17,
      "metadata": {
        "colab": {
          "base_uri": "https://localhost:8080/"
        },
        "id": "5kF1IXE9ZDas",
        "outputId": "92e71505-b297-49ac-c029-7df18c640289"
      },
      "outputs": [
        {
          "output_type": "stream",
          "name": "stdout",
          "text": [
            "2023-03-28 05:55:19.155567: I tensorflow/core/platform/cpu_feature_guard.cc:193] This TensorFlow binary is optimized with oneAPI Deep Neural Network Library (oneDNN) to use the following CPU instructions in performance-critical operations:  AVX2 FMA\n",
            "To enable them in other operations, rebuild TensorFlow with the appropriate compiler flags.\n",
            "2023-03-28 05:55:22.043997: W tensorflow/compiler/xla/stream_executor/platform/default/dso_loader.cc:64] Could not load dynamic library 'libnvinfer.so.7'; dlerror: libnvinfer.so.7: cannot open shared object file: No such file or directory; LD_LIBRARY_PATH: /usr/lib64-nvidia\n",
            "2023-03-28 05:55:22.044214: W tensorflow/compiler/xla/stream_executor/platform/default/dso_loader.cc:64] Could not load dynamic library 'libnvinfer_plugin.so.7'; dlerror: libnvinfer_plugin.so.7: cannot open shared object file: No such file or directory; LD_LIBRARY_PATH: /usr/lib64-nvidia\n",
            "2023-03-28 05:55:22.044232: W tensorflow/compiler/tf2tensorrt/utils/py_utils.cc:38] TF-TRT Warning: Cannot dlopen some TensorRT libraries. If you would like to use Nvidia GPU with TensorRT, please make sure the missing libraries mentioned above are installed properly.\n",
            "/usr/local/lib/python3.9/dist-packages/torch/nn/_reduction.py:42: UserWarning: size_average and reduce args will be deprecated, please use reduction='sum' instead.\n",
            "  warnings.warn(warning.format(ret))\n",
            "/usr/local/lib/python3.9/dist-packages/torch/nn/_reduction.py:42: UserWarning: size_average and reduce args will be deprecated, please use reduction='mean' instead.\n",
            "  warnings.warn(warning.format(ret))\n",
            "/usr/local/lib/python3.9/dist-packages/torch/nn/_reduction.py:42: UserWarning: size_average and reduce args will be deprecated, please use reduction='none' instead.\n",
            "  warnings.warn(warning.format(ret))\n",
            "[Parallel(n_jobs=12)]: Using backend LokyBackend with 12 concurrent workers.\n",
            "2023-03-28 05:55:43.736028: W tensorflow/compiler/xla/stream_executor/platform/default/dso_loader.cc:64] Could not load dynamic library 'libnvinfer.so.7'; dlerror: libnvinfer.so.7: cannot open shared object file: No such file or directory; LD_LIBRARY_PATH: /usr/lib64-nvidia\n",
            "2023-03-28 05:55:43.736161: W tensorflow/compiler/xla/stream_executor/platform/default/dso_loader.cc:64] Could not load dynamic library 'libnvinfer_plugin.so.7'; dlerror: libnvinfer_plugin.so.7: cannot open shared object file: No such file or directory; LD_LIBRARY_PATH: /usr/lib64-nvidia\n",
            "2023-03-28 05:55:43.736184: W tensorflow/compiler/tf2tensorrt/utils/py_utils.cc:38] TF-TRT Warning: Cannot dlopen some TensorRT libraries. If you would like to use Nvidia GPU with TensorRT, please make sure the missing libraries mentioned above are installed properly.\n",
            "2023-03-28 05:55:43.818748: W tensorflow/compiler/xla/stream_executor/platform/default/dso_loader.cc:64] Could not load dynamic library 'libnvinfer.so.7'; dlerror: libnvinfer.so.7: cannot open shared object file: No such file or directory; LD_LIBRARY_PATH: /usr/lib64-nvidia\n",
            "2023-03-28 05:55:43.818896: W tensorflow/compiler/xla/stream_executor/platform/default/dso_loader.cc:64] Could not load dynamic library 'libnvinfer_plugin.so.7'; dlerror: libnvinfer_plugin.so.7: cannot open shared object file: No such file or directory; LD_LIBRARY_PATH: /usr/lib64-nvidia\n",
            "2023-03-28 05:55:43.818923: W tensorflow/compiler/tf2tensorrt/utils/py_utils.cc:38] TF-TRT Warning: Cannot dlopen some TensorRT libraries. If you would like to use Nvidia GPU with TensorRT, please make sure the missing libraries mentioned above are installed properly.\n",
            "2023-03-28 05:55:43.926710: W tensorflow/compiler/xla/stream_executor/platform/default/dso_loader.cc:64] Could not load dynamic library 'libnvinfer.so.7'; dlerror: libnvinfer.so.7: cannot open shared object file: No such file or directory; LD_LIBRARY_PATH: /usr/lib64-nvidia\n",
            "2023-03-28 05:55:43.928803: W tensorflow/compiler/xla/stream_executor/platform/default/dso_loader.cc:64] Could not load dynamic library 'libnvinfer_plugin.so.7'; dlerror: libnvinfer_plugin.so.7: cannot open shared object file: No such file or directory; LD_LIBRARY_PATH: /usr/lib64-nvidia\n",
            "2023-03-28 05:55:43.928844: W tensorflow/compiler/tf2tensorrt/utils/py_utils.cc:38] TF-TRT Warning: Cannot dlopen some TensorRT libraries. If you would like to use Nvidia GPU with TensorRT, please make sure the missing libraries mentioned above are installed properly.\n",
            "2023-03-28 05:55:43.945899: W tensorflow/compiler/xla/stream_executor/platform/default/dso_loader.cc:64] Could not load dynamic library 'libnvinfer.so.7'; dlerror: libnvinfer.so.7: cannot open shared object file: No such file or directory; LD_LIBRARY_PATH: /usr/lib64-nvidia\n",
            "2023-03-28 05:55:43.946050: W tensorflow/compiler/xla/stream_executor/platform/default/dso_loader.cc:64] Could not load dynamic library 'libnvinfer_plugin.so.7'; dlerror: libnvinfer_plugin.so.7: cannot open shared object file: No such file or directory; LD_LIBRARY_PATH: /usr/lib64-nvidia\n",
            "2023-03-28 05:55:43.946076: W tensorflow/compiler/tf2tensorrt/utils/py_utils.cc:38] TF-TRT Warning: Cannot dlopen some TensorRT libraries. If you would like to use Nvidia GPU with TensorRT, please make sure the missing libraries mentioned above are installed properly.\n",
            "2023-03-28 05:55:44.110595: W tensorflow/compiler/xla/stream_executor/platform/default/dso_loader.cc:64] Could not load dynamic library 'libnvinfer.so.7'; dlerror: libnvinfer.so.7: cannot open shared object file: No such file or directory; LD_LIBRARY_PATH: /usr/lib64-nvidia\n",
            "2023-03-28 05:55:44.111786: W tensorflow/compiler/xla/stream_executor/platform/default/dso_loader.cc:64] Could not load dynamic library 'libnvinfer_plugin.so.7'; dlerror: libnvinfer_plugin.so.7: cannot open shared object file: No such file or directory; LD_LIBRARY_PATH: /usr/lib64-nvidia\n",
            "2023-03-28 05:55:44.111825: W tensorflow/compiler/tf2tensorrt/utils/py_utils.cc:38] TF-TRT Warning: Cannot dlopen some TensorRT libraries. If you would like to use Nvidia GPU with TensorRT, please make sure the missing libraries mentioned above are installed properly.\n",
            "[Parallel(n_jobs=12)]: Done   3 out of  10 | elapsed:   38.4s remaining:  1.5min\n",
            "[Parallel(n_jobs=12)]: Done   5 out of  10 | elapsed:   38.7s remaining:   38.7s\n",
            "2023-03-28 05:56:20.256708: W tensorflow/compiler/xla/stream_executor/platform/default/dso_loader.cc:64] Could not load dynamic library 'libnvinfer.so.7'; dlerror: libnvinfer.so.7: cannot open shared object file: No such file or directory; LD_LIBRARY_PATH: /usr/lib64-nvidia\n",
            "2023-03-28 05:56:20.257770: W tensorflow/compiler/xla/stream_executor/platform/default/dso_loader.cc:64] Could not load dynamic library 'libnvinfer_plugin.so.7'; dlerror: libnvinfer_plugin.so.7: cannot open shared object file: No such file or directory; LD_LIBRARY_PATH: /usr/lib64-nvidia\n",
            "2023-03-28 05:56:20.260633: W tensorflow/compiler/tf2tensorrt/utils/py_utils.cc:38] TF-TRT Warning: Cannot dlopen some TensorRT libraries. If you would like to use Nvidia GPU with TensorRT, please make sure the missing libraries mentioned above are installed properly.\n",
            "2023-03-28 05:56:20.453944: W tensorflow/compiler/xla/stream_executor/platform/default/dso_loader.cc:64] Could not load dynamic library 'libnvinfer.so.7'; dlerror: libnvinfer.so.7: cannot open shared object file: No such file or directory; LD_LIBRARY_PATH: /usr/lib64-nvidia\n",
            "2023-03-28 05:56:20.454130: W tensorflow/compiler/xla/stream_executor/platform/default/dso_loader.cc:64] Could not load dynamic library 'libnvinfer_plugin.so.7'; dlerror: libnvinfer_plugin.so.7: cannot open shared object file: No such file or directory; LD_LIBRARY_PATH: /usr/lib64-nvidia\n",
            "2023-03-28 05:56:20.454160: W tensorflow/compiler/tf2tensorrt/utils/py_utils.cc:38] TF-TRT Warning: Cannot dlopen some TensorRT libraries. If you would like to use Nvidia GPU with TensorRT, please make sure the missing libraries mentioned above are installed properly.\n",
            "2023-03-28 05:56:20.506970: W tensorflow/compiler/xla/stream_executor/platform/default/dso_loader.cc:64] Could not load dynamic library 'libnvinfer.so.7'; dlerror: libnvinfer.so.7: cannot open shared object file: No such file or directory; LD_LIBRARY_PATH: /usr/lib64-nvidia\n",
            "2023-03-28 05:56:20.511419: W tensorflow/compiler/xla/stream_executor/platform/default/dso_loader.cc:64] Could not load dynamic library 'libnvinfer_plugin.so.7'; dlerror: libnvinfer_plugin.so.7: cannot open shared object file: No such file or directory; LD_LIBRARY_PATH: /usr/lib64-nvidia\n",
            "2023-03-28 05:56:20.511461: W tensorflow/compiler/tf2tensorrt/utils/py_utils.cc:38] TF-TRT Warning: Cannot dlopen some TensorRT libraries. If you would like to use Nvidia GPU with TensorRT, please make sure the missing libraries mentioned above are installed properly.\n",
            "2023-03-28 05:56:20.579475: W tensorflow/compiler/xla/stream_executor/platform/default/dso_loader.cc:64] Could not load dynamic library 'libnvinfer.so.7'; dlerror: libnvinfer.so.7: cannot open shared object file: No such file or directory; LD_LIBRARY_PATH: /usr/lib64-nvidia\n",
            "2023-03-28 05:56:20.585820: W tensorflow/compiler/xla/stream_executor/platform/default/dso_loader.cc:64] Could not load dynamic library 'libnvinfer_plugin.so.7'; dlerror: libnvinfer_plugin.so.7: cannot open shared object file: No such file or directory; LD_LIBRARY_PATH: /usr/lib64-nvidia\n",
            "2023-03-28 05:56:20.585864: W tensorflow/compiler/tf2tensorrt/utils/py_utils.cc:38] TF-TRT Warning: Cannot dlopen some TensorRT libraries. If you would like to use Nvidia GPU with TensorRT, please make sure the missing libraries mentioned above are installed properly.\n",
            "2023-03-28 05:56:20.936267: W tensorflow/compiler/xla/stream_executor/platform/default/dso_loader.cc:64] Could not load dynamic library 'libnvinfer.so.7'; dlerror: libnvinfer.so.7: cannot open shared object file: No such file or directory; LD_LIBRARY_PATH: /usr/lib64-nvidia\n",
            "2023-03-28 05:56:20.940800: W tensorflow/compiler/xla/stream_executor/platform/default/dso_loader.cc:64] Could not load dynamic library 'libnvinfer_plugin.so.7'; dlerror: libnvinfer_plugin.so.7: cannot open shared object file: No such file or directory; LD_LIBRARY_PATH: /usr/lib64-nvidia\n",
            "2023-03-28 05:56:20.942640: W tensorflow/compiler/tf2tensorrt/utils/py_utils.cc:38] TF-TRT Warning: Cannot dlopen some TensorRT libraries. If you would like to use Nvidia GPU with TensorRT, please make sure the missing libraries mentioned above are installed properly.\n",
            "[Parallel(n_jobs=12)]: Done   7 out of  10 | elapsed:  1.2min remaining:   31.0s\n",
            "[Parallel(n_jobs=12)]: Done  10 out of  10 | elapsed:  1.2min finished\n",
            "10 questions in total\n",
            "Processing dev examples...\n",
            "100% 10/10 [00:00<00:00, 61.33it/s]\n",
            "Build 9 / 10 instances of features in total\n",
            "Saving dev eval...\n"
          ]
        }
      ],
      "source": [
        "!python main.py --mode prepro --data_file sample_dev_fullwiki.json --data_split dev --fullwiki --para_limit 2250"
      ]
    },
    {
      "cell_type": "markdown",
      "source": [
        "# Training Model"
      ],
      "metadata": {
        "id": "qzyrsUZSeZhh"
      }
    },
    {
      "cell_type": "code",
      "execution_count": 18,
      "metadata": {
        "colab": {
          "base_uri": "https://localhost:8080/"
        },
        "id": "gJZN4RhSvWVK",
        "outputId": "d4b41a64-2a73-481f-c52f-9babcec66934"
      },
      "outputs": [
        {
          "output_type": "stream",
          "name": "stdout",
          "text": [
            "2023-03-28 06:04:14.198292: I tensorflow/core/platform/cpu_feature_guard.cc:193] This TensorFlow binary is optimized with oneAPI Deep Neural Network Library (oneDNN) to use the following CPU instructions in performance-critical operations:  AVX2 FMA\n",
            "To enable them in other operations, rebuild TensorFlow with the appropriate compiler flags.\n",
            "2023-03-28 06:04:17.204795: W tensorflow/compiler/xla/stream_executor/platform/default/dso_loader.cc:64] Could not load dynamic library 'libnvinfer.so.7'; dlerror: libnvinfer.so.7: cannot open shared object file: No such file or directory; LD_LIBRARY_PATH: /usr/lib64-nvidia\n",
            "2023-03-28 06:04:17.204997: W tensorflow/compiler/xla/stream_executor/platform/default/dso_loader.cc:64] Could not load dynamic library 'libnvinfer_plugin.so.7'; dlerror: libnvinfer_plugin.so.7: cannot open shared object file: No such file or directory; LD_LIBRARY_PATH: /usr/lib64-nvidia\n",
            "2023-03-28 06:04:17.205020: W tensorflow/compiler/tf2tensorrt/utils/py_utils.cc:38] TF-TRT Warning: Cannot dlopen some TensorRT libraries. If you would like to use Nvidia GPU with TensorRT, please make sure the missing libraries mentioned above are installed properly.\n",
            "/usr/local/lib/python3.9/dist-packages/torch/nn/_reduction.py:42: UserWarning: size_average and reduce args will be deprecated, please use reduction='sum' instead.\n",
            "  warnings.warn(warning.format(ret))\n",
            "/usr/local/lib/python3.9/dist-packages/torch/nn/_reduction.py:42: UserWarning: size_average and reduce args will be deprecated, please use reduction='mean' instead.\n",
            "  warnings.warn(warning.format(ret))\n",
            "/usr/local/lib/python3.9/dist-packages/torch/nn/_reduction.py:42: UserWarning: size_average and reduce args will be deprecated, please use reduction='none' instead.\n",
            "  warnings.warn(warning.format(ret))\n",
            "Experiment dir : HOTPOT-20230328-060426\n",
            "Config\n",
            "    - mode : train\n",
            "    - data_file : None\n",
            "    - glove_word_file : glove.840B.300d.txt\n",
            "    - save : HOTPOT-20230328-060426\n",
            "    - word_emb_file : word_emb.json\n",
            "    - char_emb_file : char_emb.json\n",
            "    - train_eval_file : train_eval.json\n",
            "    - dev_eval_file : dev_eval.json\n",
            "    - test_eval_file : test_eval.json\n",
            "    - word2idx_file : word2idx.json\n",
            "    - char2idx_file : char2idx.json\n",
            "    - idx2word_file : idx2word.json\n",
            "    - idx2char_file : idx2char.json\n",
            "    - train_record_file : train_record.pkl\n",
            "    - dev_record_file : dev_record.pkl\n",
            "    - test_record_file : test_record.pkl\n",
            "    - glove_char_size : 94\n",
            "    - glove_word_size : 2200000\n",
            "    - glove_dim : 300\n",
            "    - char_dim : 8\n",
            "    - para_limit : 2250\n",
            "    - ques_limit : 80\n",
            "    - sent_limit : 100\n",
            "    - char_limit : 16\n",
            "    - batch_size : 24\n",
            "    - checkpoint : 1000\n",
            "    - period : 100\n",
            "    - init_lr : 0.1\n",
            "    - keep_prob : 1.0\n",
            "    - hidden : 80\n",
            "    - char_hidden : 100\n",
            "    - patience : 1\n",
            "    - seed : 13\n",
            "    - sp_lambda : 1.0\n",
            "    - data_split : train\n",
            "    - fullwiki : False\n",
            "    - prediction_file : None\n",
            "    - sp_threshold : 0.3\n",
            "Building model...\n",
            "nparams 961114\n",
            "| epoch  99 | step    100 | lr 0.10000 | ms/batch 717.61 | train loss    3.726\n",
            "| epoch 199 | step    200 | lr 0.10000 | ms/batch 657.14 | train loss    0.202\n",
            "| epoch 299 | step    300 | lr 0.10000 | ms/batch 660.60 | train loss    0.174\n",
            "| epoch 399 | step    400 | lr 0.10000 | ms/batch 656.56 | train loss    0.137\n",
            "| epoch 499 | step    500 | lr 0.10000 | ms/batch 665.31 | train loss    0.109\n",
            "| epoch 599 | step    600 | lr 0.10000 | ms/batch 658.15 | train loss    0.067\n",
            "| epoch 699 | step    700 | lr 0.10000 | ms/batch 648.24 | train loss    0.028\n",
            "| epoch 799 | step    800 | lr 0.10000 | ms/batch 648.96 | train loss    0.011\n",
            "| epoch 899 | step    900 | lr 0.10000 | ms/batch 668.21 | train loss    0.006\n",
            "| epoch 999 | step   1000 | lr 0.10000 | ms/batch 660.31 | train loss    0.004\n",
            "/content/hotpot/run.py:167: UserWarning: volatile was removed and now has no effect. Use `with torch.no_grad():` instead.\n",
            "  context_idxs = Variable(data['context_idxs'], volatile=True)\n",
            "/content/hotpot/run.py:168: UserWarning: volatile was removed and now has no effect. Use `with torch.no_grad():` instead.\n",
            "  ques_idxs = Variable(data['ques_idxs'], volatile=True)\n",
            "/content/hotpot/run.py:169: UserWarning: volatile was removed and now has no effect. Use `with torch.no_grad():` instead.\n",
            "  context_char_idxs = Variable(data['context_char_idxs'], volatile=True)\n",
            "/content/hotpot/run.py:170: UserWarning: volatile was removed and now has no effect. Use `with torch.no_grad():` instead.\n",
            "  ques_char_idxs = Variable(data['ques_char_idxs'], volatile=True)\n",
            "/content/hotpot/run.py:171: UserWarning: volatile was removed and now has no effect. Use `with torch.no_grad():` instead.\n",
            "  context_lens = Variable(data['context_lens'], volatile=True)\n",
            "/content/hotpot/run.py:172: UserWarning: volatile was removed and now has no effect. Use `with torch.no_grad():` instead.\n",
            "  y1 = Variable(data['y1'], volatile=True)\n",
            "/content/hotpot/run.py:173: UserWarning: volatile was removed and now has no effect. Use `with torch.no_grad():` instead.\n",
            "  y2 = Variable(data['y2'], volatile=True)\n",
            "/content/hotpot/run.py:174: UserWarning: volatile was removed and now has no effect. Use `with torch.no_grad():` instead.\n",
            "  q_type = Variable(data['q_type'], volatile=True)\n",
            "/content/hotpot/run.py:175: UserWarning: volatile was removed and now has no effect. Use `with torch.no_grad():` instead.\n",
            "  is_support = Variable(data['is_support'], volatile=True)\n",
            "/content/hotpot/run.py:176: UserWarning: volatile was removed and now has no effect. Use `with torch.no_grad():` instead.\n",
            "  start_mapping = Variable(data['start_mapping'], volatile=True)\n",
            "/content/hotpot/run.py:177: UserWarning: volatile was removed and now has no effect. Use `with torch.no_grad():` instead.\n",
            "  end_mapping = Variable(data['end_mapping'], volatile=True)\n",
            "/content/hotpot/run.py:178: UserWarning: volatile was removed and now has no effect. Use `with torch.no_grad():` instead.\n",
            "  all_mapping = Variable(data['all_mapping'], volatile=True)\n",
            "-----------------------------------------------------------------------------------------\n",
            "| eval      1 in epoch 999 | time: 664.42s | dev loss   25.191 | EM 0.0000 | F1 0.0000\n",
            "-----------------------------------------------------------------------------------------\n",
            "| epoch 1099 | step   1100 | lr 0.10000 | ms/batch 674.48 | train loss    0.003\n",
            "| epoch 1199 | step   1200 | lr 0.10000 | ms/batch 658.10 | train loss    0.002\n",
            "| epoch 1299 | step   1300 | lr 0.10000 | ms/batch 667.96 | train loss    0.002\n",
            "| epoch 1399 | step   1400 | lr 0.10000 | ms/batch 664.54 | train loss    0.002\n",
            "| epoch 1499 | step   1500 | lr 0.10000 | ms/batch 657.43 | train loss    0.001\n",
            "| epoch 1599 | step   1600 | lr 0.10000 | ms/batch 666.42 | train loss    0.001\n",
            "| epoch 1699 | step   1700 | lr 0.10000 | ms/batch 667.82 | train loss    0.001\n",
            "| epoch 1799 | step   1800 | lr 0.10000 | ms/batch 663.64 | train loss    0.001\n",
            "| epoch 1899 | step   1900 | lr 0.10000 | ms/batch 654.69 | train loss    0.001\n",
            "| epoch 1999 | step   2000 | lr 0.10000 | ms/batch 654.06 | train loss    0.001\n",
            "-----------------------------------------------------------------------------------------\n",
            "| eval      2 in epoch 1999 | time: 662.88s | dev loss   25.416 | EM 0.0000 | F1 0.0000\n",
            "-----------------------------------------------------------------------------------------\n",
            "| epoch 2099 | step   2100 | lr 0.05000 | ms/batch 669.85 | train loss    0.001\n",
            "| epoch 2199 | step   2200 | lr 0.05000 | ms/batch 650.45 | train loss    0.001\n",
            "| epoch 2299 | step   2300 | lr 0.05000 | ms/batch 660.13 | train loss    0.001\n",
            "| epoch 2399 | step   2400 | lr 0.05000 | ms/batch 653.26 | train loss    0.001\n",
            "| epoch 2499 | step   2500 | lr 0.05000 | ms/batch 661.58 | train loss    0.001\n",
            "| epoch 2599 | step   2600 | lr 0.05000 | ms/batch 661.45 | train loss    0.000\n",
            "| epoch 2699 | step   2700 | lr 0.05000 | ms/batch 652.74 | train loss    0.000\n",
            "| epoch 2799 | step   2800 | lr 0.05000 | ms/batch 655.20 | train loss    0.000\n",
            "| epoch 2899 | step   2900 | lr 0.05000 | ms/batch 670.80 | train loss    0.000\n",
            "| epoch 2999 | step   3000 | lr 0.05000 | ms/batch 660.01 | train loss    0.000\n",
            "-----------------------------------------------------------------------------------------\n",
            "| eval      3 in epoch 2999 | time: 659.56s | dev loss   25.383 | EM 0.0000 | F1 0.0000\n",
            "-----------------------------------------------------------------------------------------\n",
            "| epoch 3099 | step   3100 | lr 0.02500 | ms/batch 667.11 | train loss    0.000\n",
            "| epoch 3199 | step   3200 | lr 0.02500 | ms/batch 665.44 | train loss    0.000\n",
            "| epoch 3299 | step   3300 | lr 0.02500 | ms/batch 672.23 | train loss    0.000\n",
            "| epoch 3399 | step   3400 | lr 0.02500 | ms/batch 671.73 | train loss    0.000\n",
            "| epoch 3499 | step   3500 | lr 0.02500 | ms/batch 666.67 | train loss    0.000\n",
            "| epoch 3599 | step   3600 | lr 0.02500 | ms/batch 668.63 | train loss    0.000\n",
            "| epoch 3699 | step   3700 | lr 0.02500 | ms/batch 666.89 | train loss    0.000\n",
            "| epoch 3799 | step   3800 | lr 0.02500 | ms/batch 679.46 | train loss    0.000\n",
            "| epoch 3899 | step   3900 | lr 0.02500 | ms/batch 668.02 | train loss    0.000\n",
            "| epoch 3999 | step   4000 | lr 0.02500 | ms/batch 665.77 | train loss    0.000\n",
            "-----------------------------------------------------------------------------------------\n",
            "| eval      4 in epoch 3999 | time: 669.23s | dev loss   25.362 | EM 0.0000 | F1 0.0000\n",
            "-----------------------------------------------------------------------------------------\n",
            "| epoch 4099 | step   4100 | lr 0.01250 | ms/batch 668.44 | train loss    0.000\n",
            "| epoch 4199 | step   4200 | lr 0.01250 | ms/batch 679.29 | train loss    0.000\n",
            "| epoch 4299 | step   4300 | lr 0.01250 | ms/batch 665.80 | train loss    0.000\n",
            "| epoch 4399 | step   4400 | lr 0.01250 | ms/batch 670.85 | train loss    0.000\n",
            "| epoch 4499 | step   4500 | lr 0.01250 | ms/batch 667.21 | train loss    0.000\n",
            "| epoch 4599 | step   4600 | lr 0.01250 | ms/batch 671.44 | train loss    0.000\n",
            "| epoch 4699 | step   4700 | lr 0.01250 | ms/batch 670.68 | train loss    0.000\n",
            "| epoch 4799 | step   4800 | lr 0.01250 | ms/batch 670.05 | train loss    0.000\n",
            "| epoch 4899 | step   4900 | lr 0.01250 | ms/batch 661.25 | train loss    0.000\n",
            "| epoch 4999 | step   5000 | lr 0.01250 | ms/batch 670.37 | train loss    0.000\n",
            "-----------------------------------------------------------------------------------------\n",
            "| eval      5 in epoch 4999 | time: 669.53s | dev loss   25.353 | EM 0.0000 | F1 0.0000\n",
            "-----------------------------------------------------------------------------------------\n",
            "| epoch 5099 | step   5100 | lr 0.00625 | ms/batch 672.26 | train loss    0.000\n",
            "| epoch 5199 | step   5200 | lr 0.00625 | ms/batch 671.15 | train loss    0.000\n",
            "| epoch 5299 | step   5300 | lr 0.00625 | ms/batch 663.69 | train loss    0.000\n",
            "| epoch 5399 | step   5400 | lr 0.00625 | ms/batch 665.89 | train loss    0.000\n",
            "| epoch 5499 | step   5500 | lr 0.00625 | ms/batch 676.29 | train loss    0.000\n",
            "| epoch 5599 | step   5600 | lr 0.00625 | ms/batch 664.07 | train loss    0.000\n",
            "| epoch 5699 | step   5700 | lr 0.00625 | ms/batch 673.14 | train loss    0.000\n",
            "| epoch 5799 | step   5800 | lr 0.00625 | ms/batch 682.53 | train loss    0.000\n",
            "| epoch 5899 | step   5900 | lr 0.00625 | ms/batch 694.53 | train loss    0.000\n",
            "| epoch 5999 | step   6000 | lr 0.00625 | ms/batch 711.79 | train loss    0.000\n",
            "-----------------------------------------------------------------------------------------\n",
            "| eval      6 in epoch 5999 | time: 677.56s | dev loss   25.349 | EM 0.0000 | F1 0.0000\n",
            "-----------------------------------------------------------------------------------------\n",
            "| epoch 6099 | step   6100 | lr 0.00313 | ms/batch 684.68 | train loss    0.000\n",
            "| epoch 6199 | step   6200 | lr 0.00313 | ms/batch 684.06 | train loss    0.000\n",
            "| epoch 6299 | step   6300 | lr 0.00313 | ms/batch 675.83 | train loss    0.000\n",
            "| epoch 6399 | step   6400 | lr 0.00313 | ms/batch 688.75 | train loss    0.000\n",
            "| epoch 6499 | step   6500 | lr 0.00313 | ms/batch 677.50 | train loss    0.000\n",
            "| epoch 6599 | step   6600 | lr 0.00313 | ms/batch 665.28 | train loss    0.000\n",
            "| epoch 6699 | step   6700 | lr 0.00313 | ms/batch 664.38 | train loss    0.000\n",
            "| epoch 6799 | step   6800 | lr 0.00313 | ms/batch 679.51 | train loss    0.000\n",
            "| epoch 6899 | step   6900 | lr 0.00313 | ms/batch 665.68 | train loss    0.000\n",
            "| epoch 6999 | step   7000 | lr 0.00313 | ms/batch 670.91 | train loss    0.000\n",
            "-----------------------------------------------------------------------------------------\n",
            "| eval      7 in epoch 6999 | time: 675.67s | dev loss   25.347 | EM 0.0000 | F1 0.0000\n",
            "-----------------------------------------------------------------------------------------\n",
            "| epoch 7099 | step   7100 | lr 0.00156 | ms/batch 663.38 | train loss    0.000\n",
            "| epoch 7199 | step   7200 | lr 0.00156 | ms/batch 667.25 | train loss    0.000\n",
            "| epoch 7299 | step   7300 | lr 0.00156 | ms/batch 658.73 | train loss    0.000\n",
            "| epoch 7399 | step   7400 | lr 0.00156 | ms/batch 650.88 | train loss    0.000\n",
            "| epoch 7499 | step   7500 | lr 0.00156 | ms/batch 656.10 | train loss    0.000\n",
            "| epoch 7599 | step   7600 | lr 0.00156 | ms/batch 659.24 | train loss    0.000\n",
            "| epoch 7699 | step   7700 | lr 0.00156 | ms/batch 648.71 | train loss    0.000\n",
            "| epoch 7799 | step   7800 | lr 0.00156 | ms/batch 649.47 | train loss    0.000\n",
            "| epoch 7899 | step   7900 | lr 0.00156 | ms/batch 645.96 | train loss    0.000\n",
            "| epoch 7999 | step   8000 | lr 0.00156 | ms/batch 651.66 | train loss    0.000\n",
            "-----------------------------------------------------------------------------------------\n",
            "| eval      8 in epoch 7999 | time: 655.15s | dev loss   25.346 | EM 0.0000 | F1 0.0000\n",
            "-----------------------------------------------------------------------------------------\n",
            "best_dev_F1 0.0\n"
          ]
        }
      ],
      "source": [
        "!python main.py --mode train --para_limit 2250 --batch_size 24 --init_lr 0.1 --keep_prob 1.0 --sp_lambda 1.0"
      ]
    },
    {
      "cell_type": "markdown",
      "source": [
        "# Test"
      ],
      "metadata": {
        "id": "XEaVDhzxepFg"
      }
    },
    {
      "cell_type": "code",
      "execution_count": 22,
      "metadata": {
        "id": "GChaQq6OIDHT",
        "colab": {
          "base_uri": "https://localhost:8080/"
        },
        "outputId": "1079731a-d0b8-46e8-fcbd-4f77d2e1414e"
      },
      "outputs": [
        {
          "output_type": "stream",
          "name": "stdout",
          "text": [
            "2023-03-28 07:58:26.155717: I tensorflow/core/platform/cpu_feature_guard.cc:193] This TensorFlow binary is optimized with oneAPI Deep Neural Network Library (oneDNN) to use the following CPU instructions in performance-critical operations:  AVX2 FMA\n",
            "To enable them in other operations, rebuild TensorFlow with the appropriate compiler flags.\n",
            "2023-03-28 07:58:27.130222: W tensorflow/compiler/xla/stream_executor/platform/default/dso_loader.cc:64] Could not load dynamic library 'libnvinfer.so.7'; dlerror: libnvinfer.so.7: cannot open shared object file: No such file or directory; LD_LIBRARY_PATH: /usr/lib64-nvidia\n",
            "2023-03-28 07:58:27.130346: W tensorflow/compiler/xla/stream_executor/platform/default/dso_loader.cc:64] Could not load dynamic library 'libnvinfer_plugin.so.7'; dlerror: libnvinfer_plugin.so.7: cannot open shared object file: No such file or directory; LD_LIBRARY_PATH: /usr/lib64-nvidia\n",
            "2023-03-28 07:58:27.130367: W tensorflow/compiler/tf2tensorrt/utils/py_utils.cc:38] TF-TRT Warning: Cannot dlopen some TensorRT libraries. If you would like to use Nvidia GPU with TensorRT, please make sure the missing libraries mentioned above are installed properly.\n",
            "/usr/local/lib/python3.9/dist-packages/torch/nn/_reduction.py:42: UserWarning: size_average and reduce args will be deprecated, please use reduction='sum' instead.\n",
            "  warnings.warn(warning.format(ret))\n",
            "/usr/local/lib/python3.9/dist-packages/torch/nn/_reduction.py:42: UserWarning: size_average and reduce args will be deprecated, please use reduction='mean' instead.\n",
            "  warnings.warn(warning.format(ret))\n",
            "/usr/local/lib/python3.9/dist-packages/torch/nn/_reduction.py:42: UserWarning: size_average and reduce args will be deprecated, please use reduction='none' instead.\n",
            "  warnings.warn(warning.format(ret))\n",
            "0it [00:00, ?it/s]/content/hotpot/run.py:198: UserWarning: volatile was removed and now has no effect. Use `with torch.no_grad():` instead.\n",
            "  context_idxs = Variable(data['context_idxs'], volatile=True)\n",
            "/content/hotpot/run.py:199: UserWarning: volatile was removed and now has no effect. Use `with torch.no_grad():` instead.\n",
            "  ques_idxs = Variable(data['ques_idxs'], volatile=True)\n",
            "/content/hotpot/run.py:200: UserWarning: volatile was removed and now has no effect. Use `with torch.no_grad():` instead.\n",
            "  context_char_idxs = Variable(data['context_char_idxs'], volatile=True)\n",
            "/content/hotpot/run.py:201: UserWarning: volatile was removed and now has no effect. Use `with torch.no_grad():` instead.\n",
            "  ques_char_idxs = Variable(data['ques_char_idxs'], volatile=True)\n",
            "/content/hotpot/run.py:202: UserWarning: volatile was removed and now has no effect. Use `with torch.no_grad():` instead.\n",
            "  context_lens = Variable(data['context_lens'], volatile=True)\n",
            "/content/hotpot/run.py:203: UserWarning: volatile was removed and now has no effect. Use `with torch.no_grad():` instead.\n",
            "  start_mapping = Variable(data['start_mapping'], volatile=True)\n",
            "/content/hotpot/run.py:204: UserWarning: volatile was removed and now has no effect. Use `with torch.no_grad():` instead.\n",
            "  end_mapping = Variable(data['end_mapping'], volatile=True)\n",
            "/content/hotpot/run.py:205: UserWarning: volatile was removed and now has no effect. Use `with torch.no_grad():` instead.\n",
            "  all_mapping = Variable(data['all_mapping'], volatile=True)\n",
            "1it [00:01,  1.14s/it]\n"
          ]
        }
      ],
      "source": [
        "!python main.py --mode test --data_split dev --para_limit 2250 --batch_size 24 --init_lr 0.1 --keep_prob 1.0 --sp_lambda 1.0 --save HOTPOT-20230328-060426 --prediction_file pred_t.json"
      ]
    },
    {
      "cell_type": "markdown",
      "source": [
        "# Evaluate"
      ],
      "metadata": {
        "id": "MH9ikx53erqe"
      }
    },
    {
      "cell_type": "code",
      "execution_count": 24,
      "metadata": {
        "id": "ZrF2CaRYVo05",
        "colab": {
          "base_uri": "https://localhost:8080/"
        },
        "outputId": "6e17c3fe-3f46-4d92-9448-e773a6a8a9d1"
      },
      "outputs": [
        {
          "output_type": "stream",
          "name": "stdout",
          "text": [
            "missing answer 5a87ab905542996e4f3088c1\n",
            "missing sp fact 5a87ab905542996e4f3088c1\n",
            "{'em': 0.0, 'f1': 0.0, 'prec': 0.0, 'recall': 0.0, 'sp_em': 0.0, 'sp_f1': 0.0, 'sp_prec': 0.0, 'sp_recall': 0.0, 'joint_em': 0.0, 'joint_f1': 0.0, 'joint_prec': 0.0, 'joint_recall': 0.0}\n"
          ]
        }
      ],
      "source": [
        "!python hotpot_evaluate_v1.py pred_t.json sample_dev_distractor.json"
      ]
    }
  ],
  "metadata": {
    "accelerator": "GPU",
    "colab": {
      "provenance": [],
      "include_colab_link": true
    },
    "gpuClass": "standard",
    "kernelspec": {
      "display_name": "Python 3",
      "name": "python3"
    },
    "language_info": {
      "name": "python"
    }
  },
  "nbformat": 4,
  "nbformat_minor": 0
}